{
 "cells": [
  {
   "cell_type": "code",
   "execution_count": 1,
   "metadata": {},
   "outputs": [],
   "source": [
    "import os\n",
    "import re\n",
    "import numpy as np\n",
    "from pprint import pprint"
   ]
  },
  {
   "cell_type": "code",
   "execution_count": 2,
   "metadata": {},
   "outputs": [],
   "source": [
    "import pandas as pd\n",
    "#To view all the rows and columns in a dataframe when printing it\n",
    "pd.set_option(\"display.max_columns\", None)\n",
    "pd.set_option(\"display.max_rows\", None)"
   ]
  },
  {
   "cell_type": "code",
   "execution_count": 3,
   "metadata": {},
   "outputs": [],
   "source": [
    "# absolute path to dataset (change to the path on ypur machine)\n",
    "PATH_TO_DATASET = \"D:\\GP\\Data\\IEMOCAP_full_release\\IEMOCAP_full_release\"\n",
    "PATH_TO_SAVE_TO = \"D:\\GP\\Data\\IEMOCAP_full_release\\Data_Prep\"\n",
    "# relative pathes inside the data set \n",
    "WHOLE_VIDEO_PATH = r\"\\dialog\\avi\\DivX\"\n",
    "TRANSCRIPTION_PATH = r\"\\dialog\\transcriptions\"\n",
    "ANNOTATION_PATH = r\"\\dialog\\EmoEvaluation\\Categorical\""
   ]
  },
  {
   "cell_type": "markdown",
   "metadata": {},
   "source": [
    "___\n",
    "### Two functions for parsing transcription and evaluation files and returning a dataframe"
   ]
  },
  {
   "cell_type": "code",
   "execution_count": 16,
   "metadata": {},
   "outputs": [],
   "source": [
    "def parse_annotations_file(file_path:str)->pd.DataFrame:\n",
    "    \"\"\"\n",
    "    A function that takes a path to an annotations file and returns a dataframe with the annotations\n",
    "\n",
    "    Args:\n",
    "        file_path (str): complete path to the annotations file\n",
    "\n",
    "    Returns:\n",
    "        pd.DataFrame: recording_name, emotion\n",
    "    \"\"\"\n",
    "    recording_name = []\n",
    "    emoj = []\n",
    "    # Open the text file for reading\n",
    "    with open(file_path, 'r') as file:\n",
    "        # Read all lines from the file\n",
    "        lines = file.readlines()\n",
    "\n",
    "        # Process each line\n",
    "        for line in lines:\n",
    "            # Split the line into tokens based on some delimiter\n",
    "            delimiters =r'[:;]'\n",
    "            tokens = re.split(delimiters, line)\n",
    "            recording_name.append(tokens[0].strip())\n",
    "            local_list = []\n",
    "            # Process each token [if the annotator cant decide on one emotion they will put some emotions]\n",
    "            for token in tokens[1:]:\n",
    "                token = token.strip()\n",
    "                brackets = [\"(\",\")\"]\n",
    "                contains_brackets = any(char in brackets for char in token)\n",
    "                if token == \"Other\" or (contains_brackets and len(token)==2):\n",
    "                    continue\n",
    "                elif contains_brackets and len(token)>3:\n",
    "                    local_list.append(token[1:-1])  # remove brackets\n",
    "                elif len(token)!=0:\n",
    "                    local_list.append(token)\n",
    "                   \n",
    "            emoj.append(local_list) \n",
    "    # create a dataframe with the annotations file results\n",
    "    df=pd.DataFrame({'RecordingName': recording_name, 'Emotions_'+file_path.split(\"\\\\\")[-1].split(\"_\")[-2]: emoj})\n",
    "    return df"
   ]
  },
  {
   "cell_type": "code",
   "execution_count": 17,
   "metadata": {},
   "outputs": [
    {
     "name": "stdout",
     "output_type": "stream",
     "text": [
      "             RecordingName           Emotions_e4\n",
      "0   Ses01M_script03_2_F000       [Neutral state]\n",
      "1   Ses01M_script03_2_F001       [Neutral state]\n",
      "2   Ses01M_script03_2_F002       [Neutral state]\n",
      "3   Ses01M_script03_2_F003            [Surprise]\n",
      "4   Ses01M_script03_2_F004       [Neutral state]\n",
      "5   Ses01M_script03_2_F005       [Neutral state]\n",
      "6   Ses01M_script03_2_F006       [Neutral state]\n",
      "7   Ses01M_script03_2_F007       [Neutral state]\n",
      "8   Ses01M_script03_2_F008       [Neutral state]\n",
      "9   Ses01M_script03_2_F009       [Neutral state]\n",
      "10  Ses01M_script03_2_F010       [Neutral state]\n",
      "11  Ses01M_script03_2_F011             [annoyed]\n",
      "12  Ses01M_script03_2_F012             [annoyed]\n",
      "13  Ses01M_script03_2_F013             [annoyed]\n",
      "14  Ses01M_script03_2_F014             [annoyed]\n",
      "15  Ses01M_script03_2_F015             [annoyed]\n",
      "16  Ses01M_script03_2_F016             [annoyed]\n",
      "17  Ses01M_script03_2_F017       [Neutral state]\n",
      "18  Ses01M_script03_2_F018             [annoyed]\n",
      "19  Ses01M_script03_2_F019             [annoyed]\n",
      "20  Ses01M_script03_2_F020             [annoyed]\n",
      "21  Ses01M_script03_2_F021             [annoyed]\n",
      "22  Ses01M_script03_2_F022               [Anger]\n",
      "23  Ses01M_script03_2_F023  [Frustration, Anger]\n",
      "24  Ses01M_script03_2_F024               [Anger]\n",
      "25  Ses01M_script03_2_F025               [Anger]\n",
      "26  Ses01M_script03_2_F026               [Anger]\n",
      "27  Ses01M_script03_2_F027               [Anger]\n",
      "28  Ses01M_script03_2_F028               [Anger]\n",
      "29  Ses01M_script03_2_F029               [Anger]\n",
      "30  Ses01M_script03_2_F030               [Anger]\n",
      "31  Ses01M_script03_2_F031               [Anger]\n",
      "32  Ses01M_script03_2_F032               [Anger]\n",
      "33  Ses01M_script03_2_F033               [Anger]\n",
      "34  Ses01M_script03_2_F034               [Anger]\n",
      "35  Ses01M_script03_2_F035               [Anger]\n",
      "36  Ses01M_script03_2_F036               [Anger]\n",
      "37  Ses01M_script03_2_F037               [Anger]\n",
      "38  Ses01M_script03_2_F038               [Anger]\n",
      "39  Ses01M_script03_2_F039  [Frustration, Anger]\n",
      "40  Ses01M_script03_2_F040               [Anger]\n",
      "41  Ses01M_script03_2_F041  [Frustration, Anger]\n",
      "42  Ses01M_script03_2_M000       [Neutral state]\n",
      "43  Ses01M_script03_2_M001       [Neutral state]\n",
      "44  Ses01M_script03_2_M002       [Neutral state]\n",
      "45  Ses01M_script03_2_M003       [Neutral state]\n",
      "46  Ses01M_script03_2_M004             [annoyed]\n",
      "47  Ses01M_script03_2_M005       [Neutral state]\n",
      "48  Ses01M_script03_2_M006             [annoyed]\n",
      "49  Ses01M_script03_2_M007       [Neutral state]\n",
      "50  Ses01M_script03_2_M008       [Neutral state]\n",
      "51  Ses01M_script03_2_M009       [Neutral state]\n",
      "52  Ses01M_script03_2_M010             [annoyed]\n",
      "53  Ses01M_script03_2_M011       [Neutral state]\n",
      "54  Ses01M_script03_2_M012       [Neutral state]\n",
      "55  Ses01M_script03_2_M013       [Neutral state]\n",
      "56  Ses01M_script03_2_M014             [annoyed]\n",
      "57  Ses01M_script03_2_M015             [annoyed]\n",
      "58  Ses01M_script03_2_M016         [Frustration]\n",
      "59  Ses01M_script03_2_M017         [Frustration]\n",
      "60  Ses01M_script03_2_M018       [Neutral state]\n",
      "61  Ses01M_script03_2_M019       [Neutral state]\n",
      "62  Ses01M_script03_2_M020       [Neutral state]\n",
      "63  Ses01M_script03_2_M021       [Neutral state]\n",
      "64  Ses01M_script03_2_M022               [Anger]\n",
      "65  Ses01M_script03_2_M023               [Anger]\n",
      "66  Ses01M_script03_2_M024               [Anger]\n",
      "67  Ses01M_script03_2_M025               [Anger]\n",
      "68  Ses01M_script03_2_M026               [Anger]\n",
      "69  Ses01M_script03_2_M027               [Anger]\n",
      "70  Ses01M_script03_2_M028               [Anger]\n",
      "71  Ses01M_script03_2_M029               [Anger]\n",
      "72  Ses01M_script03_2_M030               [Anger]\n",
      "73  Ses01M_script03_2_M031               [Anger]\n",
      "74  Ses01M_script03_2_M032               [Anger]\n",
      "75  Ses01M_script03_2_M033               [Anger]\n",
      "76  Ses01M_script03_2_M034               [Anger]\n",
      "77  Ses01M_script03_2_M035               [Anger]\n",
      "78  Ses01M_script03_2_M036               [Anger]\n",
      "79  Ses01M_script03_2_M037               [Anger]\n",
      "80  Ses01M_script03_2_M038               [Anger]\n",
      "81  Ses01M_script03_2_M039               [Anger]\n",
      "82  Ses01M_script03_2_M040               [Anger]\n",
      "83  Ses01M_script03_2_M041               [Anger]\n",
      "84  Ses01M_script03_2_M042               [Anger]\n",
      "85  Ses01M_script03_2_M043               [Anger]\n"
     ]
    }
   ],
   "source": [
    "#Test the above function\n",
    "print(parse_annotations_file(r'D:\\GP\\Data\\IEMOCAP_full_release\\IEMOCAP_full_release\\Session1\\dialog\\EmoEvaluation\\Categorical\\Ses01M_script03_2_e4_cat.txt'))"
   ]
  },
  {
   "cell_type": "code",
   "execution_count": 18,
   "metadata": {},
   "outputs": [],
   "source": [
    "def parse_transcription_file(file_path:str)->pd.DataFrame:\n",
    "    \"\"\"\n",
    "    A function that takes a path to a transcription file and returns a dataframe with the transcription\n",
    "\n",
    "    Args:\n",
    "        file_path (str): complelete path to the transcription file\n",
    "\n",
    "    Returns:\n",
    "        pd.DataFrame: recording_name, transcription, start, end\n",
    "    \"\"\"\n",
    "    transcriptions = []\n",
    "    file_name = []\n",
    "    start = []\n",
    "    end = []\n",
    "    # Open the text file for reading\n",
    "    with open(file_path, 'r') as file:\n",
    "        # Read all lines from the file\n",
    "        lines = file.readlines()\n",
    "\n",
    "        pattern = r'\\[(\\d+\\.\\d+)-(\\d+\\.\\d+)\\]'\n",
    "        # Process each line\n",
    "        for line in lines:\n",
    "            tokens = line.split(':')\n",
    "            if len(tokens[0]) < 6:\n",
    "                continue\n",
    "            transcriptions.append(tokens[-1].strip())\n",
    "            # print(tokens[0])\n",
    "            name, start_end = tokens[0].split()\n",
    "            file_name.append(name.strip())\n",
    "            # Search for the start and end time in the string\n",
    "            matches = re.search(pattern, start_end)\n",
    "            if matches:\n",
    "                start.append(matches.group(1))\n",
    "                end.append(matches.group(2))\n",
    "    df = pd.DataFrame({'RecordingName': file_name, 'Transcription': transcriptions, 'Start': start, 'End': end})\n",
    "    return df"
   ]
  },
  {
   "cell_type": "code",
   "execution_count": 19,
   "metadata": {},
   "outputs": [
    {
     "name": "stdout",
     "output_type": "stream",
     "text": [
      "          RecordingName                                      Transcription  \\\n",
      "0   Ses01F_impro01_F000                                         Excuse me.   \n",
      "1   Ses01F_impro01_M000                            Do you have your forms?   \n",
      "2   Ses01F_impro01_F001                                              Yeah.   \n",
      "3   Ses01F_impro01_M001                                   Let me see them.   \n",
      "4   Ses01F_impro01_F002                                Is there a problem?   \n",
      "5   Ses01F_impro01_M002                  Who told you to get in this line?   \n",
      "6   Ses01F_impro01_F003                                           You did.   \n",
      "7   Ses01F_impro01_F004  You were standing at the beginning and you dir...   \n",
      "8   Ses01F_impro01_M003  Okay. But I didn't tell you to get in this lin...   \n",
      "9   Ses01F_impro01_F005        Well what's the problem?  Let me change it.   \n",
      "10  Ses01F_impro01_M004                           This form is a Z.X.four.   \n",
      "11  Ses01F_impro01_M005  You can't--  This is not the line for Z.X.four...   \n",
      "12  Ses01F_impro01_F006  What?  I'm getting an ID.  This is why I'm her...   \n",
      "13  Ses01F_impro01_M006  No. I need another set of ID to prove this is ...   \n",
      "14  Ses01F_impro01_F007  How am I supposed to get an ID without an ID? ...   \n",
      "15  Ses01F_impro01_M007  I don't know.  But I need an ID to pass this f...   \n",
      "16  Ses01F_impro01_F008                             I'm here to get an ID.   \n",
      "17  Ses01F_impro01_M008            No.  I need another ID, a separate one.   \n",
      "18  Ses01F_impro01_F009              Like what?  Like a birth certificate?   \n",
      "19  Ses01F_impro01_M009  A birth certificate, a passport...a student ID...   \n",
      "20  Ses01F_impro01_F010              Who the hell has a birth certificate?   \n",
      "21  Ses01F_impro01_F011  Yes but my wallet was stolen, I don't have any...   \n",
      "22  Ses01F_impro01_M010  Yeah.  We keep it on file, but we need an ID t...   \n",
      "23  Ses01F_impro01_F012                             That's out of control.   \n",
      "24  Ses01F_impro01_M011  I don't understand why this is so complicated ...   \n",
      "25  Ses01F_impro01_F013               How long have you been working here?   \n",
      "26  Ses01F_impro01_M012                                 Actually too long.   \n",
      "27  Ses01F_impro01_F014  Clearly.  You know, do you have like a supervi...   \n",
      "28  Ses01F_impro01_M013  Yeah.  Do you want to see my supervisor?  Huh?...   \n",
      "29  Ses01F_impro01_F015       That would - I would appreciate that.  Yeah.   \n",
      "\n",
      "       Start       End  \n",
      "0   006.2901  008.2357  \n",
      "1   007.5712  010.4750  \n",
      "2   010.0100  011.3925  \n",
      "3   010.9266  014.6649  \n",
      "4   014.8872  018.0175  \n",
      "5   016.8352  019.7175  \n",
      "6   019.2900  020.7875  \n",
      "7   021.3257  024.7400  \n",
      "8   023.4700  028.0300  \n",
      "9   027.4600  031.4900  \n",
      "10  028.3950  031.2117  \n",
      "11  031.2660  039.3875  \n",
      "12  038.9650  043.5900  \n",
      "13  041.2300  046.9800  \n",
      "14  046.5800  052.1900  \n",
      "15  051.4000  057.6400  \n",
      "16  056.1600  058.8225  \n",
      "17  058.1800  062.5900  \n",
      "18  061.8700  065.9700  \n",
      "19  065.5100  073.0000  \n",
      "20  066.4200  069.3400  \n",
      "21  072.4500  082.2600  \n",
      "22  081.5900  086.0300  \n",
      "23  085.2700  088.0200  \n",
      "24  087.1500  094.3900  \n",
      "25  093.6700  097.0218  \n",
      "26  095.8600  098.6800  \n",
      "27  097.8900  102.9600  \n",
      "28  101.8400  107.8700  \n",
      "29  103.9700  106.7100  \n"
     ]
    }
   ],
   "source": [
    "#Test the above function\n",
    "print(parse_transcription_file(r\"D:\\GP\\Data\\IEMOCAP_full_release\\IEMOCAP_full_release\\Session1\\dialog\\transcriptions\\Ses01F_impro01.txt\"))"
   ]
  },
  {
   "cell_type": "markdown",
   "metadata": {},
   "source": [
    "___\n",
    "### Generate csv files for all the sessions "
   ]
  },
  {
   "cell_type": "code",
   "execution_count": 20,
   "metadata": {},
   "outputs": [],
   "source": [
    "def determine_emotion(column1,column2,column3):\n",
    "    def add_to_dictionary(dic, items_list):\n",
    "        # Case where no emotion is written (rather than a list  it is nan)\n",
    "        if type(items_list) == float:\n",
    "            if \"No emotion\" in my_dictionary:\n",
    "                my_dictionary[\"No emotion\"] += 1\n",
    "            else:\n",
    "                my_dictionary[\"No emotion\"] = 1\n",
    "            return\n",
    "        for item in items_list:\n",
    "            item = item.strip().upper()\n",
    "            if item in my_dictionary:\n",
    "                dic[item] += 1/len(items_list)\n",
    "            else:\n",
    "                dic[item] = 1/len(items_list)\n",
    "    final_emotion = []\n",
    "    for item1, item2, item3 in zip(column1,column2,column3):\n",
    "        my_dictionary = dict()\n",
    "        add_to_dictionary(my_dictionary, item1)\n",
    "        add_to_dictionary(my_dictionary, item2)\n",
    "        add_to_dictionary(my_dictionary, item3)\n",
    "        final_emotion.append(max(my_dictionary, key=lambda k: my_dictionary[k]))\n",
    "    return final_emotion"
   ]
  },
  {
   "cell_type": "code",
   "execution_count": null,
   "metadata": {},
   "outputs": [],
   "source": [
    "# loop on the sessions to get the transcription of each session and their coresponding annotations files\n",
    "final_csv=[]\n",
    "for i in range(1,6):\n",
    "    #Prepare the directory to save in\n",
    "    folder_path_to_save_in = PATH_TO_SAVE_TO+f\"\\Session{i}\\\\\"\n",
    "    # Check if the directory exists\n",
    "    if not os.path.exists(folder_path_to_save_in):\n",
    "        # Create the directory if it doesn't exist\n",
    "        os.makedirs(folder_path_to_save_in)\n",
    "        print(f\"Directory '{folder_path_to_save_in}' created successfully.\")\n",
    "    else:\n",
    "        print(f\"Directory '{folder_path_to_save_in}' already exists.\")\n",
    "    \n",
    "    dfs = []#to save the dataframes of the same session\n",
    "    \n",
    "    directory = PATH_TO_DATASET + f\"\\Session{i}\"+TRANSCRIPTION_PATH\n",
    "    files = os.listdir(directory)\n",
    "    filtered_files = [file for file in files if not file.startswith('._')]\n",
    "    txt_files = [file for file in filtered_files if file.endswith('.txt')]\n",
    "    print(len(txt_files))\n",
    "    \n",
    "    for file in txt_files:\n",
    "        print(\"Transcription: \"+directory+\"\\\\\"+file)\n",
    "        directory2 = PATH_TO_DATASET + f\"\\Session{i}\"+ANNOTATION_PATH\n",
    "        files2 = os.listdir(directory2)\n",
    "        #get the annotations files for the current transcript file\n",
    "        filtered_files2 = [file2 for file2 in files2 if (file2.startswith(file[:-4]) and file2[len(file)-4])==\"_\"]\n",
    "        #get the .txt files\n",
    "        txt_files2 = [file2 for file2 in filtered_files2 if file2.endswith('.txt')]\n",
    "        print(\"\\t\",txt_files2)\n",
    "        print(len(txt_files2))\n",
    "        \n",
    "        transcription_dataframe = parse_transcription_file(directory+\"\\\\\"+file)\n",
    "        for file2 in txt_files2:\n",
    "            annotations_dataframe = parse_annotations_file(directory2+\"\\\\\"+file2)\n",
    "            transcription_dataframe = pd.merge(transcription_dataframe, annotations_dataframe, on='RecordingName' , how= 'outer')\n",
    "        #Determine the final emotion of the clip\n",
    "        columns_to_exclude = [\"RecordingName\", \"Transcription\", \"Start\", \"End\", \"Emotion\"]\n",
    "        selected_columns = transcription_dataframe.loc[:, ~transcription_dataframe.columns.isin(columns_to_exclude)]\n",
    "        selected_lists = [selected_columns[column].tolist() for column in selected_columns]\n",
    "        print(selected_lists[0],\"\\n\",selected_lists[1],\"\\n\",selected_lists[2])\n",
    "        \n",
    "        transcription_dataframe[\"Emotion\"]=determine_emotion(selected_lists[0],selected_lists[1],selected_lists[2])\n",
    "        transcription_dataframe.to_csv(folder_path_to_save_in+file[:-4]+\".csv\", index=False)\n",
    "        \n",
    "        dfs.append(transcription_dataframe)\n",
    "    \n",
    "    #create a dataframe from all csv files in the folder and save it as one big csv file in the folder    \n",
    "    combined_df = pd.concat(dfs, axis=0)\n",
    "    columns_to_keep = [\"RecordingName\", \"Transcription\", \"Start\", \"End\", \"Emotion\"]\n",
    "    combined_df = combined_df[columns_to_keep]\n",
    "    final_csv.append(combined_df)\n",
    "    combined_df.to_csv(folder_path_to_save_in+\"combined.csv\", index=False)\n",
    "    print(\"\\n\\n\")\n",
    "    \n",
    "final_dataframe = pd.concat(final_csv, axis=0)\n",
    "final_dataframe.to_csv(PATH_TO_SAVE_TO+\"\\combined.csv\", index=False)"
   ]
  },
  {
   "cell_type": "markdown",
   "metadata": {},
   "source": [
    "___\n",
    "___\n",
    "Now that we have a csv with all the emotions we will drop entries where there is no emotion, see how the data is distributed among emotions and split them into train, test, val sets"
   ]
  },
  {
   "cell_type": "code",
   "execution_count": 4,
   "metadata": {},
   "outputs": [],
   "source": [
    "import matplotlib.pyplot as plt"
   ]
  },
  {
   "cell_type": "code",
   "execution_count": 5,
   "metadata": {},
   "outputs": [],
   "source": [
    "# get stats about the data (pie chart of emotions)\n",
    "iemocap_df = pd.read_csv(PATH_TO_SAVE_TO+\"\\combined.csv\" )"
   ]
  },
  {
   "cell_type": "code",
   "execution_count": 10,
   "metadata": {},
   "outputs": [
    {
     "data": {
      "image/png": "[encoded data removed]",
      "text/plain": [
       "<Figure size 640x480 with 1 Axes>"
      ]
     },
     "metadata": {},
     "output_type": "display_data"
    }
   ],
   "source": [
    "label_counts = iemocap_df['Emotion'].value_counts()\n",
    "label_counts.plot(kind='bar')\n",
    "plt.xlabel('Labels')\n",
    "plt.ylabel('Frequency')\n",
    "plt.title('Histogram of Labels')\n",
    "plt.show()"
   ]
  },
  {
   "cell_type": "code",
   "execution_count": 11,
   "metadata": {},
   "outputs": [
    {
     "name": "stdout",
     "output_type": "stream",
     "text": [
      "Emotion\n",
      "FRUSTRATION            2902\n",
      "EXCITED                1966\n",
      "NEUTRAL STATE          1729\n",
      "ANGER                  1277\n",
      "SADNESS                1253\n",
      "HAPPINESS               664\n",
      "SURPRISE                112\n",
      "FEAR                    106\n",
      "No emotion               48\n",
      "DESPAIR                   7\n",
      "AMUSED                    6\n",
      "ANNOYED                   4\n",
      "MELANCOLIA                2\n",
      "MELANCOLIC                2\n",
      "DISGUST                   2\n",
      "CONCERN                   2\n",
      "EXASPERATION              1\n",
      "DETACHED AND AMUSED       1\n",
      "SHOCKED                   1\n",
      "INDIGNATION               1\n",
      "SYMPATHIZING              1\n",
      "Name: count, dtype: int64\n"
     ]
    }
   ],
   "source": [
    "print(label_counts)"
   ]
  },
  {
   "cell_type": "code",
   "execution_count": 31,
   "metadata": {},
   "outputs": [
    {
     "name": "stdout",
     "output_type": "stream",
     "text": [
      "['No emotion', 'DESPAIR', 'AMUSED', 'ANNOYED', 'MELANCOLIA', 'MELANCOLIC', 'DISGUST', 'CONCERN', 'EXASPERATION', 'DETACHED AND AMUSED', 'SHOCKED', 'INDIGNATION', 'SYMPATHIZING']\n",
      "Emotion\n",
      "FRUSTRATION      2902\n",
      "EXCITED          1966\n",
      "NEUTRAL STATE    1729\n",
      "ANGER            1277\n",
      "SADNESS          1253\n",
      "HAPPINESS         664\n",
      "SURPRISE          112\n",
      "FEAR              106\n",
      "Name: count, dtype: int64\n",
      "Length of the filtered datafame is 10009\n"
     ]
    }
   ],
   "source": [
    "# Drop emotions with low counts\n",
    "drop_emotions = label_counts[label_counts < 100].index.to_list()\n",
    "print(drop_emotions)\n",
    "# Drop rows where the 'Name' column has the values 'Alice' or 'David'\n",
    "iemocap_filtered = iemocap_df[~iemocap_df['Emotion'].isin(drop_emotions)]\n",
    "label_counts_filtered = iemocap_filtered['Emotion'].value_counts()\n",
    "print(label_counts_filtered)\n",
    "print(f\"Length of the filtered datafame is {len(iemocap_filtered)}\")"
   ]
  },
  {
   "cell_type": "code",
   "execution_count": 32,
   "metadata": {},
   "outputs": [],
   "source": [
    "from sklearn.model_selection import train_test_split"
   ]
  },
  {
   "cell_type": "code",
   "execution_count": 35,
   "metadata": {},
   "outputs": [
    {
     "name": "stdout",
     "output_type": "stream",
     "text": [
      "Successful split into train_data, test_data, validation_data\n"
     ]
    }
   ],
   "source": [
    "# Train Val Test  split\n",
    "# Splitting data into 80% train(60% train, 20% validate) and 20% test \n",
    "train_data, test_data = train_test_split(iemocap_filtered, test_size=0.2, stratify=iemocap_filtered[\"Emotion\"], random_state=42)\n",
    "\n",
    "# Splitting the remaining 80% into 75% train and 25% validation (20% validation)\n",
    "train_data, validation_data = train_test_split(train_data, test_size=0.25, stratify=train_data[\"Emotion\"], random_state=42)\n",
    "\n",
    "# Add a new column to each DataFrame indicating the attribute ('train', 'test', 'validate')\n",
    "train_data['category'] = 'train'\n",
    "test_data['category'] = 'test'\n",
    "validation_data['category'] = 'validate'\n",
    "\n",
    "# Concatenate the DataFrames together\n",
    "combined_df = pd.concat([train_data, test_data, validation_data], ignore_index=True)\n",
    "\n",
    "# Sort the combined DataFrame by 'Attribute' and 'id'\n",
    "combined_df = combined_df.sort_values(by=['RecordingName'])\n",
    "\n",
    "# Write the sorted DataFrame to a CSV file\n",
    "try:\n",
    "    combined_df.to_csv(PATH_TO_SAVE_TO+\"\\Annotations.csv\", index=False)\n",
    "    print(\"Successful split into train_data, test_data, validation_data\")\n",
    "except PermissionError as e:\n",
    "    print(\"The csv file is opend please close the the file to allow overwrite.\\n\"+str(e))\n",
    "except Exception as ex:\n",
    "    # Handling any other exceptions that might occur\n",
    "    print(\"An error occurred:\", ex)\n",
    "    "
   ]
  },
  {
   "cell_type": "code",
   "execution_count": null,
   "metadata": {},
   "outputs": [],
   "source": []
  }
 ],
 "metadata": {
  "kernelspec": {
   "display_name": ".venvgpu",
   "language": "python",
   "name": "python3"
  },
  "language_info": {
   "codemirror_mode": {
    "name": "ipython",
    "version": 3
   },
   "file_extension": ".py",
   "mimetype": "text/x-python",
   "name": "python",
   "nbconvert_exporter": "python",
   "pygments_lexer": "ipython3",
   "version": "3.9.13"
  }
 },
 "nbformat": 4,
 "nbformat_minor": 2
}
